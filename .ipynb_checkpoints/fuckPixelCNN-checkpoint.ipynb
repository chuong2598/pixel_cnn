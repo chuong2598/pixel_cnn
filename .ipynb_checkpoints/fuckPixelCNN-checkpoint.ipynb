{
 "cells": [
  {
   "cell_type": "code",
   "execution_count": 20,
   "metadata": {},
   "outputs": [],
   "source": [
    "\n",
    "\n",
    "'''Models.'''\n",
    "#%%\n",
    "from __future__ import print_function\n",
    "from __future__ import absolute_import\n",
    "from __future__ import division\n",
    "from __future__ import unicode_literals\n",
    "\n",
    "import itertools\n",
    "\n",
    "import numpy as np\n",
    "import chainer\n",
    "import chainer.functions as F\n",
    "import chainer.links as L\n",
    "\n",
    "INIT = chainer.initializers.HeUniform()\n",
    "\n",
    "\n",
    "class MaskedConvolution2D(L.Convolution2D):\n",
    "    def __init__(self, *args, mask='B', **kwargs):\n",
    "        super(MaskedConvolution2D, self).__init__(\n",
    "            *args, **kwargs\n",
    "        )\n",
    "\n",
    "        Cout, Cin, kh, kw = self.W.shape\n",
    "        pre_mask = self.xp.ones_like(self.W.data).astype('f')\n",
    "        yc, xc = kh // 2, kw // 2\n",
    "\n",
    "        # context masking - subsequent pixels won't hav access to next pixels (spatial dim)\n",
    "        pre_mask[:, :, yc+1:, :] = 0.0\n",
    "        pre_mask[:, :, yc:, xc+1:] = 0.0\n",
    "#         print(pre_mask)\n",
    "        # same pixel masking - pixel won't access next color (conv filter dim)\n",
    "        def bmask(i_out, i_in):\n",
    "            cout_idx = np.expand_dims(np.arange(Cout) % 3 == i_out, 1)\n",
    "            cin_idx = np.expand_dims(np.arange(Cin) % 3 == i_in, 0)\n",
    "            a1, a2 = np.broadcast_arrays(cout_idx, cin_idx)\n",
    "            return a1 * a2\n",
    "        print()\n",
    "        \n",
    "        for j in range(3):\n",
    "            pre_mask[bmask(j, j), yc, xc] = 0.0 if mask == 'A' else 1.0\n",
    "\n",
    "        pre_mask[bmask(0, 1), yc, xc] = 0.0\n",
    "        pre_mask[bmask(0, 2), yc, xc] = 0.0\n",
    "        pre_mask[bmask(1, 2), yc, xc] = 0.0\n",
    "\n",
    "        self.mask = pre_mask\n",
    "        print(pre_mask)\n",
    "        \n",
    "\n",
    "    def __call__(self, x):\n",
    "        if self.has_uninitialized_params:\n",
    "            with chainer.cuda.get_device(self._device_id):\n",
    "                self._initialize_params(x.shape[1])\n",
    "\n",
    "        return chainer.functions.connection.convolution_2d.convolution_2d(\n",
    "            x, self.W * self.mask, self.b, self.stride, self.pad, self.use_cudnn,\n",
    "            deterministic=self.deterministic)\n",
    "\n",
    "    def to_gpu(self, device=None):\n",
    "        self._persistent.append('mask')\n",
    "        res = super().to_gpu(device)\n",
    "        self._persistent.remove('mask')\n",
    "        return res\n",
    "    "
   ]
  },
  {
   "cell_type": "code",
   "execution_count": null,
   "metadata": {},
   "outputs": [],
   "source": [
    "\n",
    "a = MaskedConvolution2D(in_channels=4, out_channels=5, ksize=5, mask='B')\n"
   ]
  },
  {
   "cell_type": "code",
   "execution_count": null,
   "metadata": {},
   "outputs": [],
   "source": []
  },
  {
   "cell_type": "code",
   "execution_count": null,
   "metadata": {},
   "outputs": [],
   "source": []
  }
 ],
 "metadata": {
  "kernelspec": {
   "display_name": "Python 3",
   "language": "python",
   "name": "python3"
  },
  "language_info": {
   "codemirror_mode": {
    "name": "ipython",
    "version": 3
   },
   "file_extension": ".py",
   "mimetype": "text/x-python",
   "name": "python",
   "nbconvert_exporter": "python",
   "pygments_lexer": "ipython3",
   "version": "3.7.7"
  }
 },
 "nbformat": 4,
 "nbformat_minor": 4
}
